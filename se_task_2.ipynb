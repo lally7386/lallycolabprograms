{
  "nbformat": 4,
  "nbformat_minor": 0,
  "metadata": {
    "colab": {
      "provenance": []
    },
    "kernelspec": {
      "name": "python3",
      "display_name": "Python 3"
    },
    "language_info": {
      "name": "python"
    }
  },
  "cells": [
    {
      "cell_type": "code",
      "execution_count": null,
      "metadata": {
        "id": "t7P2Mvr2GnvE"
      },
      "outputs": [],
      "source": []
    },
    {
      "cell_type": "code",
      "source": [
        "name = \"Lalitha\"\n",
        "age = 19\n",
        "address = \"Gitam University, Hyderabad\"\n",
        "print(f'Name: (Lalitha), Age: ({age}), Address: {address}')"
      ],
      "metadata": {
        "colab": {
          "base_uri": "https://localhost:8080/"
        },
        "id": "QuXWo_LgGoPL",
        "outputId": "18ea15e4-d4f3-480c-e650-4813d2b74234"
      },
      "execution_count": 3,
      "outputs": [
        {
          "output_type": "stream",
          "name": "stdout",
          "text": [
            "Name: (Lalitha), Age: (19), Address: Gitam University, Hyderabad\n"
          ]
        }
      ]
    },
    {
      "cell_type": "code",
      "source": [
        "# Taking input from the keyboard\n",
        "user_name = input(\"Enter your name: \") # Prompts the user to input their name\n",
        "user_age = input(\"Enter your age: \")\n",
        "# Prompts the user to input their age\n",
        "# Print the collected information\n",
        "print(f\"User Name: (Lalitha), User Age: {user_age}\")"
      ],
      "metadata": {
        "colab": {
          "base_uri": "https://localhost:8080/"
        },
        "id": "r_l85O5EGzxV",
        "outputId": "f99536cf-fe69-4cca-d165-e70bc3015d51"
      },
      "execution_count": 4,
      "outputs": [
        {
          "output_type": "stream",
          "name": "stdout",
          "text": [
            "Enter your name: Lalitha\n",
            "Enter your age: 19\n",
            "User Name: (Lalitha), User Age: 19\n"
          ]
        }
      ]
    },
    {
      "cell_type": "code",
      "source": [
        "# Taking input from the keyboard\n",
        "user_name = input(\"Enter your name: \") # Prompts the user to input their name\n",
        "user_age = input(\"Enter your age: \")\n",
        "# Prompts the user to input their age\n",
        "# Print the collected information\n",
        "print(f\"User Name: (Lalitha), User Age: {user_age}\")"
      ],
      "metadata": {
        "colab": {
          "base_uri": "https://localhost:8080/"
        },
        "id": "P_Fem34bHHDr",
        "outputId": "9cec78e4-7822-4304-cf5f-0cda265c46cd"
      },
      "execution_count": 5,
      "outputs": [
        {
          "output_type": "stream",
          "name": "stdout",
          "text": [
            "Enter your name: Lalitha\n",
            "Enter your age: 19\n",
            "User Name: (Lalitha), User Age: 19\n"
          ]
        }
      ]
    },
    {
      "cell_type": "code",
      "source": [
        "# Reading a single input from a file.\n",
        "try:\n",
        "    with open(\"single_input.txt\", \"w\") as f:\n",
        "        f.write(\"28\") # This line is now indented\n",
        "    with open(\"single_input.txt\", \"r\") as f:\n",
        "        num = int(f.read().strip())\n",
        "    print (f\"Result: {num} * 1= {num * 1}\") # Fixed the f-string formatting\n",
        "except (FileNotFoundError, ValueError):\n",
        "    print(\"Error: File not found or invalid content!\")"
      ],
      "metadata": {
        "colab": {
          "base_uri": "https://localhost:8080/"
        },
        "id": "1nQFWhUkHVrQ",
        "outputId": "130ca30c-fc53-4e9a-de9f-972ca67761f7"
      },
      "execution_count": 6,
      "outputs": [
        {
          "output_type": "stream",
          "name": "stdout",
          "text": [
            "Result: 28 * 1= 28\n"
          ]
        }
      ]
    }
  ]
}